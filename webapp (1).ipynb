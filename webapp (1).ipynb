{
  "nbformat": 4,
  "nbformat_minor": 0,
  "metadata": {
    "colab": {
      "provenance": []
    },
    "kernelspec": {
      "name": "python3",
      "display_name": "Python 3"
    },
    "language_info": {
      "name": "python"
    }
  },
  "cells": [
    {
      "cell_type": "code",
      "execution_count": null,
      "metadata": {
        "id": "IhMtsA8wNnMw"
      },
      "outputs": [],
      "source": [
        "!pip install anvil-uplink\n"
      ]
    },
    {
      "cell_type": "code",
      "execution_count": null,
      "metadata": {
        "id": "Q56MUQfdrHy6",
        "collapsed": true
      },
      "outputs": [],
      "source": [
        "!pip install openai"
      ]
    },
    {
      "cell_type": "code",
      "source": [
        "!pip install plantuml"
      ],
      "metadata": {
        "id": "WdwWpCTTOyVn"
      },
      "execution_count": null,
      "outputs": []
    },
    {
      "cell_type": "code",
      "source": [
        "import openai\n",
        "from plantuml import PlantUML\n",
        "\n",
        "\n",
        "# Функция для извлечения кода PlantUML диаграмм из ответа модели\n",
        "def extract_plantuml_code(text):\n",
        "    start_index = text.find(\"@startuml\")\n",
        "    end_index = text.find(\"@enduml\")\n",
        "    if start_index != -1 and end_index != -1:\n",
        "        return text[start_index:end_index + len(\"@enduml\")].strip()\n",
        "    return None\n",
        "\n",
        "#функция для генерации UMl изображений\n",
        "def generate_plantuml_image(plantuml_code, output_file):\n",
        "    # Создаем экземпляр PlantUML с URL сервера\n",
        "    plantuml = PlantUML(url='http://www.plantuml.com/plantuml/png/')\n",
        "\n",
        "    # Записываем код PlantUML во временный файл\n",
        "    with open(\"temp.uml\", \"w\") as temp_file:\n",
        "        temp_file.write(plantuml_code)\n",
        "\n",
        "    # Генерируем изображение и сохраняем его в указанный файл\n",
        "    plantuml.processes_file(\"temp.uml\", output_file)\n",
        "\n",
        "# API ключ\n",
        "openai.api_key = \"\"\n",
        "\n",
        "# Функция для получения ответа от GPT\n",
        "def get_assistant_response(messages):\n",
        "    response = openai.ChatCompletion.create(\n",
        "        model=\"gpt-4\",\n",
        "        messages=[{\"role\": m[\"role\"], \"content\": m[\"content\"]} for m in messages]\n",
        "    )\n",
        "    return response.choices[0].message[\"content\"]\n",
        "\n",
        "def get_PlantUML_code(user_input):\n",
        "    # Инициализация истории сообщений\n",
        "    messages = [{\"role\": \"assistant\", \"content\": \"Как я могу помочь?\"}]\n",
        "\n",
        "    # Запрашиваем генерацию кода PlantUML для диаграммы вариантов использования\n",
        "    use_case_prompt = f\"I want you to act as a professional system analyst and designer with specialized proficiency in generating PlantUML diagrams. \\\n",
        "    Based on the following system description, generate a PlantUML use case diagram code. Ensure that your diagram aligns with the system description and \\\n",
        "    adheres to standard PlantUML syntax and best practices. Don't include any explanations in your responses. Here is the system description: {user_input}\"\n",
        "    messages.append({\"role\": \"user\", \"content\": use_case_prompt})\n",
        "    use_case_response = get_assistant_response(messages)\n",
        "    messages.append({\"role\": \"assistant\", \"content\": use_case_response})\n",
        "\n",
        "    # Запрашиваем генерацию кода PlantUML для диаграммы классов\n",
        "    class_prompt = f\"I want you to act as a professional system analyst and designer with specialized proficiency in generating PlantUML diagrams.\\\n",
        "     Based on the following system description, generate a PlantUML class diagram code. Ensure that your diagram aligns with the system description\\\n",
        "      and adheres to standard PlantUML syntax and best practices.  Don't include any explanations in your responses. Here is the system description: {user_input}\"\n",
        "    messages.append({\"role\": \"user\", \"content\": class_prompt})\n",
        "    class_response = get_assistant_response(messages)\n",
        "    messages.append({\"role\": \"assistant\", \"content\": class_response})\n",
        "\n",
        "    # Запрашиваем генерацию кода PlantUML для диаграммы последовательности\n",
        "    sequence_prompt = f\"I want you to act as a professional system analyst and designer with specialized proficiency in generating PlantUML diagrams. \\\n",
        "    Based on the following system description, generate a PlantUML sequence diagram code. \\\n",
        "    Ensure that your diagram aligns with the system description and adheres to standard PlantUML syntax and best practices.  Don't include any explanations in your responses. \\\n",
        "    Here is the system description: {user_input}\"\n",
        "    messages.append({\"role\": \"user\", \"content\": sequence_prompt})\n",
        "    sequence_response = get_assistant_response(messages)\n",
        "    messages.append({\"role\": \"assistant\", \"content\": sequence_response})\n",
        "\n",
        "    # Извлекаем и сохраняем код диаграмм\n",
        "    plantuml_code = {\n",
        "        \"use_case\": extract_plantuml_code(use_case_response),\n",
        "        \"class\": extract_plantuml_code(class_response),\n",
        "        \"sequence\": extract_plantuml_code(sequence_response)\n",
        "    }\n",
        "    return plantuml_code\n",
        "\n"
      ],
      "metadata": {
        "id": "fjB3QKcDc_Vf"
      },
      "execution_count": null,
      "outputs": []
    }
  ]
}